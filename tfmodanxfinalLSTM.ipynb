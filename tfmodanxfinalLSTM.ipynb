{
 "cells": [
  {
   "cell_type": "code",
   "execution_count": 1,
   "metadata": {},
   "outputs": [],
   "source": [
    "from tensorflow import keras\n",
    "import tensorflow as tf\n",
    "import pandas as pd\n",
    "import numpy as np\n",
    "import matplotlib.pyplot as plt\n",
    "import re\n",
    "from sklearn.model_selection import train_test_split\n",
    "from tensorflow.keras.preprocessing.text import Tokenizer\n",
    "from tensorflow.keras.preprocessing.sequence import pad_sequences \n",
    "from tensorflow.keras.layers import Input, Dense, Embedding, LSTM, GlobalMaxPooling1D,Conv1D\n",
    "from tensorflow.keras.models import Model\n",
    "from tensorflow import keras\n"
   ]
  },
  {
   "cell_type": "code",
   "execution_count": 2,
   "metadata": {},
   "outputs": [
    {
     "data": {
      "text/html": [
       "<div>\n",
       "<style scoped>\n",
       "    .dataframe tbody tr th:only-of-type {\n",
       "        vertical-align: middle;\n",
       "    }\n",
       "\n",
       "    .dataframe tbody tr th {\n",
       "        vertical-align: top;\n",
       "    }\n",
       "\n",
       "    .dataframe thead th {\n",
       "        text-align: right;\n",
       "    }\n",
       "</style>\n",
       "<table border=\"1\" class=\"dataframe\">\n",
       "  <thead>\n",
       "    <tr style=\"text-align: right;\">\n",
       "      <th></th>\n",
       "      <th>id</th>\n",
       "      <th>message</th>\n",
       "      <th>label</th>\n",
       "    </tr>\n",
       "  </thead>\n",
       "  <tbody>\n",
       "    <tr>\n",
       "      <th>0</th>\n",
       "      <td>0</td>\n",
       "      <td>Does anyone else get these symptoms with anxie...</td>\n",
       "      <td>0</td>\n",
       "    </tr>\n",
       "    <tr>\n",
       "      <th>1</th>\n",
       "      <td>1</td>\n",
       "      <td>I headed to the gym just as I do every other d...</td>\n",
       "      <td>1</td>\n",
       "    </tr>\n",
       "    <tr>\n",
       "      <th>2</th>\n",
       "      <td>2</td>\n",
       "      <td>When I’m having an episode I can’t enjoy anyth...</td>\n",
       "      <td>0</td>\n",
       "    </tr>\n",
       "    <tr>\n",
       "      <th>3</th>\n",
       "      <td>3</td>\n",
       "      <td>So basically I don’t have an amazing relations...</td>\n",
       "      <td>1</td>\n",
       "    </tr>\n",
       "    <tr>\n",
       "      <th>4</th>\n",
       "      <td>4</td>\n",
       "      <td>I was getting my nails done &amp;amp; I had to tak...</td>\n",
       "      <td>1</td>\n",
       "    </tr>\n",
       "    <tr>\n",
       "      <th>5</th>\n",
       "      <td>5</td>\n",
       "      <td>I just got this big tattoo on the side of my f...</td>\n",
       "      <td>1</td>\n",
       "    </tr>\n",
       "    <tr>\n",
       "      <th>6</th>\n",
       "      <td>6</td>\n",
       "      <td>So I think almost two years ago my anxiety sta...</td>\n",
       "      <td>1</td>\n",
       "    </tr>\n",
       "    <tr>\n",
       "      <th>7</th>\n",
       "      <td>7</td>\n",
       "      <td>“I HAVE to think this or that.” “You HAVE to d...</td>\n",
       "      <td>1</td>\n",
       "    </tr>\n",
       "    <tr>\n",
       "      <th>8</th>\n",
       "      <td>8</td>\n",
       "      <td>For me I either bite my finger or stick my tou...</td>\n",
       "      <td>0</td>\n",
       "    </tr>\n",
       "    <tr>\n",
       "      <th>9</th>\n",
       "      <td>9</td>\n",
       "      <td>As a therapist and a specialist with OCD and A...</td>\n",
       "      <td>1</td>\n",
       "    </tr>\n",
       "    <tr>\n",
       "      <th>10</th>\n",
       "      <td>10</td>\n",
       "      <td>I'm just so exhausted of my life being this wa...</td>\n",
       "      <td>1</td>\n",
       "    </tr>\n",
       "    <tr>\n",
       "      <th>11</th>\n",
       "      <td>11</td>\n",
       "      <td>Hi there! I would like to share an app that he...</td>\n",
       "      <td>0</td>\n",
       "    </tr>\n",
       "    <tr>\n",
       "      <th>12</th>\n",
       "      <td>12</td>\n",
       "      <td>So this is kinda out of my comfort zone but I ...</td>\n",
       "      <td>0</td>\n",
       "    </tr>\n",
       "    <tr>\n",
       "      <th>13</th>\n",
       "      <td>13</td>\n",
       "      <td>This is gonna be a vent post just cause I need...</td>\n",
       "      <td>1</td>\n",
       "    </tr>\n",
       "    <tr>\n",
       "      <th>14</th>\n",
       "      <td>14</td>\n",
       "      <td>With it being Halloween season, and wanting to...</td>\n",
       "      <td>1</td>\n",
       "    </tr>\n",
       "    <tr>\n",
       "      <th>15</th>\n",
       "      <td>15</td>\n",
       "      <td>I am a 20 year old female, a have really bad a...</td>\n",
       "      <td>1</td>\n",
       "    </tr>\n",
       "    <tr>\n",
       "      <th>16</th>\n",
       "      <td>16</td>\n",
       "      <td>Currently sending this from work. I'm on a 6.</td>\n",
       "      <td>1</td>\n",
       "    </tr>\n",
       "    <tr>\n",
       "      <th>17</th>\n",
       "      <td>17</td>\n",
       "      <td>My anxiety will ebb and flow over the weeks, s...</td>\n",
       "      <td>1</td>\n",
       "    </tr>\n",
       "    <tr>\n",
       "      <th>18</th>\n",
       "      <td>18</td>\n",
       "      <td>I have been on sick leave from work for the pa...</td>\n",
       "      <td>1</td>\n",
       "    </tr>\n",
       "    <tr>\n",
       "      <th>19</th>\n",
       "      <td>19</td>\n",
       "      <td>I’ve had anxiety really bad anxiety since I wa...</td>\n",
       "      <td>1</td>\n",
       "    </tr>\n",
       "  </tbody>\n",
       "</table>\n",
       "</div>"
      ],
      "text/plain": [
       "    id                                            message  label\n",
       "0    0  Does anyone else get these symptoms with anxie...      0\n",
       "1    1  I headed to the gym just as I do every other d...      1\n",
       "2    2  When I’m having an episode I can’t enjoy anyth...      0\n",
       "3    3  So basically I don’t have an amazing relations...      1\n",
       "4    4  I was getting my nails done &amp; I had to tak...      1\n",
       "5    5  I just got this big tattoo on the side of my f...      1\n",
       "6    6  So I think almost two years ago my anxiety sta...      1\n",
       "7    7  “I HAVE to think this or that.” “You HAVE to d...      1\n",
       "8    8  For me I either bite my finger or stick my tou...      0\n",
       "9    9  As a therapist and a specialist with OCD and A...      1\n",
       "10  10  I'm just so exhausted of my life being this wa...      1\n",
       "11  11  Hi there! I would like to share an app that he...      0\n",
       "12  12  So this is kinda out of my comfort zone but I ...      0\n",
       "13  13  This is gonna be a vent post just cause I need...      1\n",
       "14  14  With it being Halloween season, and wanting to...      1\n",
       "15  15  I am a 20 year old female, a have really bad a...      1\n",
       "16  16      Currently sending this from work. I'm on a 6.      1\n",
       "17  17  My anxiety will ebb and flow over the weeks, s...      1\n",
       "18  18  I have been on sick leave from work for the pa...      1\n",
       "19  19  I’ve had anxiety really bad anxiety since I wa...      1"
      ]
     },
     "execution_count": 2,
     "metadata": {},
     "output_type": "execute_result"
    }
   ],
   "source": [
    "tweets = pd.read_csv(\"Anxiety_sentiment.csv\")\n",
    "tweets.head(20)"
   ]
  },
  {
   "cell_type": "code",
   "execution_count": 3,
   "metadata": {},
   "outputs": [],
   "source": [
    "def text_cleaning(text):\n",
    "  text = re.sub(r'@[A-Za-z0-9]+', '', text)     # removing @mentions\n",
    "  text = re.sub(r'@[A-Za-zA-Z0-9]+', '', text)  # removing @mentions \n",
    "  text = re.sub(r'@[A-Za-z]+', '', text)        # removing @mentions\n",
    "  text = re.sub(r'@[-)]+', '', text)            # removing @mentions\n",
    "  text = re.sub(r'#', '', text )                # removing '#' sign\n",
    "  text = re.sub(r'RT[\\s]+', '', text)           # removing RT\n",
    "  text = re.sub(r'https?\\/\\/\\S+', '', text)     # removing the hyper link\n",
    "  text = re.sub(r'&[a-z;]+', '', text)          # removing '&gt;'\n",
    "\n",
    "  return text\n"
   ]
  },
  {
   "cell_type": "code",
   "execution_count": null,
   "metadata": {},
   "outputs": [],
   "source": [
    "import nltk\n",
    "nltk.download('stopwords')\n",
    "from nltk.corpus import stopwords\n",
    "\n",
    "\n",
    "stop = set(stopwords.words(\"english\"))\n",
    "\n",
    "\n",
    "def remove_stopwords(text):\n",
    "    text = [word.lower() for word in text.split() if word.lower() not in stop]\n",
    "\n",
    "    return \" \".join(text)"
   ]
  },
  {
   "cell_type": "code",
   "execution_count": 4,
   "metadata": {},
   "outputs": [],
   "source": [
    "tweets['message'] = tweets['message'].apply(text_cleaning)"
   ]
  },
  {
   "cell_type": "code",
   "execution_count": 5,
   "metadata": {},
   "outputs": [
    {
     "data": {
      "text/html": [
       "<div>\n",
       "<style scoped>\n",
       "    .dataframe tbody tr th:only-of-type {\n",
       "        vertical-align: middle;\n",
       "    }\n",
       "\n",
       "    .dataframe tbody tr th {\n",
       "        vertical-align: top;\n",
       "    }\n",
       "\n",
       "    .dataframe thead th {\n",
       "        text-align: right;\n",
       "    }\n",
       "</style>\n",
       "<table border=\"1\" class=\"dataframe\">\n",
       "  <thead>\n",
       "    <tr style=\"text-align: right;\">\n",
       "      <th></th>\n",
       "      <th>id</th>\n",
       "      <th>message</th>\n",
       "      <th>label</th>\n",
       "    </tr>\n",
       "  </thead>\n",
       "  <tbody>\n",
       "    <tr>\n",
       "      <th>0</th>\n",
       "      <td>0</td>\n",
       "      <td>Does anyone else get these symptoms with anxie...</td>\n",
       "      <td>0</td>\n",
       "    </tr>\n",
       "    <tr>\n",
       "      <th>1</th>\n",
       "      <td>1</td>\n",
       "      <td>I headed to the gym just as I do every other d...</td>\n",
       "      <td>1</td>\n",
       "    </tr>\n",
       "    <tr>\n",
       "      <th>2</th>\n",
       "      <td>2</td>\n",
       "      <td>When I’m having an episode I can’t enjoy anyth...</td>\n",
       "      <td>0</td>\n",
       "    </tr>\n",
       "    <tr>\n",
       "      <th>3</th>\n",
       "      <td>3</td>\n",
       "      <td>So basically I don’t have an amazing relations...</td>\n",
       "      <td>1</td>\n",
       "    </tr>\n",
       "    <tr>\n",
       "      <th>4</th>\n",
       "      <td>4</td>\n",
       "      <td>I was getting my nails done  I had to take off...</td>\n",
       "      <td>1</td>\n",
       "    </tr>\n",
       "    <tr>\n",
       "      <th>5</th>\n",
       "      <td>5</td>\n",
       "      <td>I just got this big tattoo on the side of my f...</td>\n",
       "      <td>1</td>\n",
       "    </tr>\n",
       "    <tr>\n",
       "      <th>6</th>\n",
       "      <td>6</td>\n",
       "      <td>So I think almost two years ago my anxiety sta...</td>\n",
       "      <td>1</td>\n",
       "    </tr>\n",
       "    <tr>\n",
       "      <th>7</th>\n",
       "      <td>7</td>\n",
       "      <td>“I HAVE to think this or that.” “You HAVE to d...</td>\n",
       "      <td>1</td>\n",
       "    </tr>\n",
       "    <tr>\n",
       "      <th>8</th>\n",
       "      <td>8</td>\n",
       "      <td>For me I either bite my finger or stick my tou...</td>\n",
       "      <td>0</td>\n",
       "    </tr>\n",
       "    <tr>\n",
       "      <th>9</th>\n",
       "      <td>9</td>\n",
       "      <td>As a therapist and a specialist with OCD and A...</td>\n",
       "      <td>1</td>\n",
       "    </tr>\n",
       "    <tr>\n",
       "      <th>10</th>\n",
       "      <td>10</td>\n",
       "      <td>I'm just so exhausted of my life being this wa...</td>\n",
       "      <td>1</td>\n",
       "    </tr>\n",
       "    <tr>\n",
       "      <th>11</th>\n",
       "      <td>11</td>\n",
       "      <td>Hi there! I would like to share an app that he...</td>\n",
       "      <td>0</td>\n",
       "    </tr>\n",
       "    <tr>\n",
       "      <th>12</th>\n",
       "      <td>12</td>\n",
       "      <td>So this is kinda out of my comfort zone but I ...</td>\n",
       "      <td>0</td>\n",
       "    </tr>\n",
       "    <tr>\n",
       "      <th>13</th>\n",
       "      <td>13</td>\n",
       "      <td>This is gonna be a vent post just cause I need...</td>\n",
       "      <td>1</td>\n",
       "    </tr>\n",
       "    <tr>\n",
       "      <th>14</th>\n",
       "      <td>14</td>\n",
       "      <td>With it being Halloween season, and wanting to...</td>\n",
       "      <td>1</td>\n",
       "    </tr>\n",
       "    <tr>\n",
       "      <th>15</th>\n",
       "      <td>15</td>\n",
       "      <td>I am a 20 year old female, a have really bad a...</td>\n",
       "      <td>1</td>\n",
       "    </tr>\n",
       "    <tr>\n",
       "      <th>16</th>\n",
       "      <td>16</td>\n",
       "      <td>Currently sending this from work. I'm on a 6.</td>\n",
       "      <td>1</td>\n",
       "    </tr>\n",
       "    <tr>\n",
       "      <th>17</th>\n",
       "      <td>17</td>\n",
       "      <td>My anxiety will ebb and flow over the weeks, s...</td>\n",
       "      <td>1</td>\n",
       "    </tr>\n",
       "    <tr>\n",
       "      <th>18</th>\n",
       "      <td>18</td>\n",
       "      <td>I have been on sick leave from work for the pa...</td>\n",
       "      <td>1</td>\n",
       "    </tr>\n",
       "    <tr>\n",
       "      <th>19</th>\n",
       "      <td>19</td>\n",
       "      <td>I’ve had anxiety really bad anxiety since I wa...</td>\n",
       "      <td>1</td>\n",
       "    </tr>\n",
       "  </tbody>\n",
       "</table>\n",
       "</div>"
      ],
      "text/plain": [
       "    id                                            message  label\n",
       "0    0  Does anyone else get these symptoms with anxie...      0\n",
       "1    1  I headed to the gym just as I do every other d...      1\n",
       "2    2  When I’m having an episode I can’t enjoy anyth...      0\n",
       "3    3  So basically I don’t have an amazing relations...      1\n",
       "4    4  I was getting my nails done  I had to take off...      1\n",
       "5    5  I just got this big tattoo on the side of my f...      1\n",
       "6    6  So I think almost two years ago my anxiety sta...      1\n",
       "7    7  “I HAVE to think this or that.” “You HAVE to d...      1\n",
       "8    8  For me I either bite my finger or stick my tou...      0\n",
       "9    9  As a therapist and a specialist with OCD and A...      1\n",
       "10  10  I'm just so exhausted of my life being this wa...      1\n",
       "11  11  Hi there! I would like to share an app that he...      0\n",
       "12  12  So this is kinda out of my comfort zone but I ...      0\n",
       "13  13  This is gonna be a vent post just cause I need...      1\n",
       "14  14  With it being Halloween season, and wanting to...      1\n",
       "15  15  I am a 20 year old female, a have really bad a...      1\n",
       "16  16      Currently sending this from work. I'm on a 6.      1\n",
       "17  17  My anxiety will ebb and flow over the weeks, s...      1\n",
       "18  18  I have been on sick leave from work for the pa...      1\n",
       "19  19  I’ve had anxiety really bad anxiety since I wa...      1"
      ]
     },
     "execution_count": 5,
     "metadata": {},
     "output_type": "execute_result"
    }
   ],
   "source": [
    "tweets.head(20)"
   ]
  },
  {
   "cell_type": "code",
   "execution_count": 6,
   "metadata": {},
   "outputs": [],
   "source": [
    "x_train, x_test, y_train, y_test = train_test_split(tweets['message'].values, tweets['label'].values, test_size=0.20)"
   ]
  },
  {
   "cell_type": "code",
   "execution_count": 7,
   "metadata": {},
   "outputs": [],
   "source": [
    "# instantiating the tokenizer  \n",
    "max_vocab = 20000000\n",
    "tokenizer = Tokenizer(num_words=max_vocab)\n",
    "tokenizer.fit_on_texts(x_train)\n"
   ]
  },
  {
   "cell_type": "code",
   "execution_count": 8,
   "metadata": {},
   "outputs": [
    {
     "name": "stdout",
     "output_type": "stream",
     "text": [
      "Size of datatset vocab is:  23327\n"
     ]
    }
   ],
   "source": [
    "# checking the word index and find out the vocabulary of the dataset\n",
    "wordidx = tokenizer.word_index\n",
    "V = len(wordidx)\n",
    "print('Size of datatset vocab is: ', V)"
   ]
  },
  {
   "cell_type": "code",
   "execution_count": 9,
   "metadata": {},
   "outputs": [
    {
     "name": "stdout",
     "output_type": "stream",
     "text": [
      "Training sequence:  [1, 13277, 44, 5, 960, 3670, 113, 164, 822, 919, 35, 718, 17, 113, 2882, 115, 5, 641, 2774, 103, 2, 236, 8, 49, 5, 3029, 7, 21, 16, 279, 1664, 23, 392, 87, 303, 22, 5, 2716, 3, 221, 6, 145, 11, 5, 3533, 2, 1107, 92, 22, 6, 1831, 7, 931, 798, 26, 101, 1731, 40, 8, 395, 3, 5, 132, 2, 205, 595, 1701, 1, 102, 173, 68, 976, 1057, 14, 141, 3, 1099, 9, 13, 16, 13278, 3111, 6, 211, 75, 164, 6, 126, 181, 1, 360, 6, 167, 718, 2883, 131, 1155, 60, 8456, 873, 10, 1, 162, 61, 8457, 7446, 2, 16, 6, 1457, 196, 2, 1587, 35, 2828, 195, 115, 10, 18, 42, 329, 2, 127, 509, 609, 3, 49, 2, 44, 47, 940, 2, 4, 75, 1, 325, 3, 10104, 66, 1430, 4, 75, 1, 134, 182, 92, 889, 10, 3203, 3415, 9, 17, 75, 1571, 13279, 517, 79, 293, 14, 9, 3, 28, 13, 117, 642, 616, 17, 9, 14, 6, 275, 126, 19, 169, 73, 61, 3287, 9, 49, 61, 106, 5636, 5238, 9, 24, 118, 2, 90, 160, 420, 6, 246, 41, 7, 2041, 12, 1, 207, 92, 10, 256, 718, 4621, 992, 93, 7, 6, 4914, 273, 44, 6111, 64, 15, 1665, 39, 2, 61, 6112, 3, 82, 450, 75, 164, 9, 49, 22, 1, 134, 85, 56, 53, 92, 524, 40, 1, 146, 66, 836, 3, 411, 2, 26, 23, 4, 8458, 138, 70, 241, 3, 2717, 5, 272, 41, 642, 6, 790, 196, 61, 58, 240, 265, 230, 270, 4621, 57, 20, 866, 14, 66, 3, 831, 32, 13, 47, 12, 21, 336, 337, 25, 2717, 1, 855, 489, 10, 4, 511, 72, 7, 5, 277, 132, 940, 191, 125, 1572, 308, 58, 6, 122, 3, 33, 17, 13, 5, 2573, 243, 556, 29, 3805, 12, 49, 26, 289, 7, 622, 167, 132, 798, 1, 696, 64, 32, 6, 1554, 113, 164, 5, 401, 2241, 12, 1, 2829, 13, 3806, 3534, 2955, 2, 6113, 450, 112, 93, 14, 10, 1, 28, 22, 26, 59, 1052, 1, 904, 397, 1316, 44, 3535, 24, 3112, 2, 1, 63, 54, 3, 29, 270, 91, 1, 20, 54, 3, 29, 1731, 2, 203, 3, 701, 11, 5, 2883, 10, 61, 507, 3287, 9, 14, 64, 131, 259, 29, 75, 526, 52, 218, 61, 58, 3204, 10, 61, 5637, 256, 2108, 112, 49, 1, 20, 574, 32, 4, 1607, 2, 1216, 45, 4, 575, 16, 234, 17, 9, 1, 63, 37, 31, 517, 118, 1, 200, 33, 31, 1, 200, 176, 3, 160, 3, 66, 25, 8, 24, 27, 12, 1, 204, 408, 5, 272, 73, 285, 9, 255, 1702, 352, 14, 504]\n",
      "Testing sequence:  [9, 6, 7478, 11171, 6, 12740, 99, 1941, 11, 2434, 7, 107, 878, 23, 2, 133, 557, 25, 4285, 90, 855, 90, 43, 4, 8473, 91, 11, 869, 14, 652, 90, 383, 43, 172, 1025, 4, 219, 126, 90, 567, 8287, 2679, 11, 2053, 256, 1430, 18, 8044, 7236, 208, 75, 90, 185, 401, 90, 606, 2, 8619, 2, 1914, 153, 14, 383, 7, 363, 8, 18, 479, 3, 160, 3, 141, 131, 225, 37, 86, 139, 11, 256, 1111, 90, 8619, 10, 90, 535, 439, 113, 11, 4, 87, 124, 878, 3, 439, 113, 674, 6, 754, 931, 2, 90, 185, 383, 203, 3, 1725, 256, 1754, 17, 233, 2, 21, 2, 7690, 60, 1735, 510, 11, 1394, 65, 197, 9, 10, 11, 1572, 65, 73, 29, 2225, 5913, 2, 90, 185, 383, 858, 3, 748, 2, 867, 65, 459, 2225, 14, 9, 72, 7, 235, 127, 132, 1111, 11, 2, 235, 113, 127, 243, 4, 902, 65, 684, 14, 844, 123, 41, 3, 5913, 4, 187, 90, 752, 39, 65, 2636, 9, 17, 6, 2601, 1102, 53, 72, 7, 5, 1828, 12163, 235, 113, 212, 132, 383, 9398, 2, 4, 219, 789, 185, 84, 44, 161, 1, 18, 332, 27, 166, 1, 596, 17, 237, 21, 76, 65, 112, 1754, 17, 2, 16, 756, 10, 1, 33, 112, 90, 1325, 1316, 4, 1977, 53, 4, 4465, 862, 3, 13, 11439, 2038, 2, 105, 1088, 1, 241, 5, 277, 3, 111, 603, 12, 360, 56, 89, 6, 211, 112, 964, 52, 218, 1, 18, 756, 7, 8, 74, 171, 3, 34, 41, 7, 5, 283, 213, 2, 29, 1036, 107, 1088, 90, 185, 59, 3, 62, 94, 3, 4, 862, 2, 11034, 260, 468, 131, 1, 225, 37, 43, 2331, 363, 276, 1088, 1, 43, 130, 580, 27, 38, 86, 43, 184, 9, 28, 19, 12, 38, 7, 5, 21, 1, 43, 184, 39, 67, 1588, 1695, 3, 5, 243, 2, 292, 107, 1088, 65, 1398, 3, 146, 31, 1, 18, 347, 2, 1, 155, 882, 12, 1, 459, 1, 18, 1514, 2, 95, 1, 488, 4, 187, 59, 3, 4, 1676, 255, 4, 254, 77, 1, 2293, 2, 155, 1876, 867, 41, 138, 26, 335, 31, 1, 184, 86, 28, 580, 1, 78, 29, 424, 95, 65, 155, 1, 225, 111, 86, 28, 580, 1, 752, 123, 2, 235, 212, 132, 32, 55, 185, 1890, 2, 88, 90, 423, 3, 558, 3, 4, 3028, 40, 1, 48, 95, 1, 888, 3, 706, 19, 1, 43, 5, 2773, 11, 44, 1, 1325, 710, 82, 5, 243, 16, 6, 11923, 65, 58, 99, 8886, 7221, 23, 5679, 2, 1, 535, 65, 73, 54, 3, 135, 2855, 2, 1, 43, 5, 283, 3010, 3531, 2, 1, 225, 54, 3, 6015, 710, 82, 19, 1, 1325, 1617, 2, 162, 5, 283, 157, 2, 290, 82, 33, 239, 283, 157, 1, 43, 235, 2645, 2, 465, 1, 2682, 90, 73, 20, 748, 94, 39, 23, 4, 3028, 1, 1325, 94, 3, 983, 7, 4, 3028, 2, 8, 314, 25, 4577, 1318, 443, 180, 65, 73, 999, 6, 677, 12, 65, 225, 4, 1136, 357, 4183, 11, 2, 1, 855, 55, 43, 292, 1, 18, 255, 4, 92, 459, 1407, 24, 2546, 8, 18, 2754, 124, 1, 43, 357, 257, 1707, 5, 410, 1, 43, 1527, 41, 3, 5, 277, 243, 2, 1657, 3, 66, 45, 43, 20, 321, 1, 43, 317, 197, 66, 25, 4, 187, 124, 2, 1, 1398, 66, 45, 1, 567, 1398, 123, 2, 370, 66, 30, 27, 2228, 1, 48, 658, 2177, 30, 549, 141, 131, 656, 25, 5, 21, 73, 15, 1398, 541, 3, 100, 61, 2385, 1060, 361, 46, 9184, 587, 1152, 2, 200, 29, 75, 4484, 2, 90, 427, 2191, 115, 8, 35, 6, 186, 115, 4, 1711, 1623, 179, 16, 45, 18, 1398, 352, 2614, 123, 36, 285, 832, 9, 1, 225, 1, 43, 79, 422, 119, 36, 159, 19, 1, 1325, 94, 123, 1, 158, 36, 185, 20, 231, 133, 832, 9, 36, 114, 15, 20, 483, 2, 370, 1, 225, 615, 15503, 710, 36, 353, 123, 1, 225, 69, 36, 245, 3, 29, 152, 2084, 9, 8346, 220, 42, 127, 123, 9, 26, 27, 730, 1, 2112, 22, 1, 34, 361, 68, 359, 625, 3, 29, 152, 141, 22, 9, 2003, 101, 6458, 2, 68, 20, 101, 133, 881, 2, 26, 27, 149, 2414, 22, 1, 37, 6157, 1, 15, 6, 171, 47, 17, 8, 2, 176, 27, 3, 29, 22, 10, 12, 68, 1031, 17, 1473, 31, 10, 177, 477, 12, 36, 4167, 483, 24, 1672, 6, 677, 4, 101, 409, 635, 6, 122, 1152, 2, 8, 2666, 35, 4, 12591, 157, 3, 33, 1296, 50, 93, 70, 197, 36, 25, 5, 3538, 240, 12, 1, 469, 13, 782, 20, 573, 5, 1059, 2, 26, 394, 2492, 36, 53, 237, 1214, 26, 27, 730, 2, 31, 36, 2, 635, 132, 185, 1330, 361, 3918, 1, 34, 8, 12, 8, 18, 479, 3, 748, 36, 2, 1, 33, 364, 36, 15, 4, 277, 125, 142, 150, 179, 2, 371, 63, 1099, 4104, 26, 27, 2228, 22, 153, 16, 347, 123, 10, 177, 9, 46, 599, 30, 46, 335, 36, 185, 927, 3, 706, 2, 841, 22, 36, 245, 3, 33, 149, 283, 157, 30, 335, 1, 253, 797, 11, 46, 5, 172, 16, 1163, 2, 1, 63, 69, 65, 855, 50, 235, 1877, 184, 9, 28, 1, 207, 751, 3095, 1247, 41, 2, 1072, 1991, 12, 1, 63, 69, 65, 78, 200, 1, 5247, 6, 603, 24, 16, 8, 20, 27, 801, 8, 1, 48, 42, 14, 881, 5, 4107, 1707, 2, 5675, 2, 638, 481, 2428, 162, 1, 1680, 112, 871, 45, 73, 36, 15, 264, 1072, 667, 256, 1430, 2, 69, 65, 162, 112]\n"
     ]
    }
   ],
   "source": [
    "# converting tran and test sentences into sequences\n",
    "train_seq = tokenizer.texts_to_sequences(x_train)\n",
    "test_seq = tokenizer.texts_to_sequences(x_test)\n",
    "print('Training sequence: ', train_seq[0])\n",
    "print('Testing sequence: ', test_seq[0])"
   ]
  },
  {
   "cell_type": "code",
   "execution_count": 10,
   "metadata": {},
   "outputs": [
    {
     "name": "stdout",
     "output_type": "stream",
     "text": [
      "The length of training sequence is:  4388\n"
     ]
    }
   ],
   "source": [
    "# padding the sequences to get equal length sequence because its conventional to use same size sequences\n",
    "# padding the traing sequence\n",
    "pad_train = pad_sequences(train_seq)\n",
    "T = pad_train.shape[1]\n",
    "print('The length of training sequence is: ', T)"
   ]
  },
  {
   "cell_type": "code",
   "execution_count": 11,
   "metadata": {},
   "outputs": [
    {
     "name": "stdout",
     "output_type": "stream",
     "text": [
      "The length of testing sequence is:  4388\n"
     ]
    }
   ],
   "source": [
    "# padding the test sequence\n",
    "pad_test = pad_sequences(test_seq, maxlen=T)\n",
    "print('The length of testing sequence is: ', pad_test.shape[1])"
   ]
  },
  {
   "cell_type": "code",
   "execution_count": 12,
   "metadata": {},
   "outputs": [
    {
     "data": {
      "text/plain": [
       "'Note: Here D, M are the hyperparameters which mean they can be adjusted as we feel\\n to fine-tune the outputs of the model.  \\n'"
      ]
     },
     "execution_count": 12,
     "metadata": {},
     "output_type": "execute_result"
    }
   ],
   "source": [
    "D = 15\n",
    "M = 10\n",
    "\n",
    "# LSTM MODEL \n",
    "# x = LSTM(M, return_sequences = True)(x)\n",
    "\n",
    "i = Input (shape=(T, ))   \n",
    "x = Embedding(V+1, D,trainable = True)(i)    # V+1 because the indexing of the words in vocab (V) start from 1 not 0\n",
    "\n",
    "x = Conv1D(M,  kernel_size = 1)(x)\n",
    "x = GlobalMaxPooling1D()(x)\n",
    "\n",
    "x = Dense(32, activation='relu')(x)\n",
    "\n",
    "x = Embedding(V+1, D,trainable = True)(i) \n",
    "x = Conv1D(M,  kernel_size = 1)(x)\n",
    "x = GlobalMaxPooling1D()(x)\n",
    "\n",
    "x = Dense(1, activation='sigmoid')(x)\n",
    "\n",
    "model = Model(i,x)\n",
    "\n",
    "'''Note: Here D, M are the hyperparameters which mean they can be adjusted as we feel\n",
    " to fine-tune the outputs of the model.  \n",
    "'''"
   ]
  },
  {
   "cell_type": "code",
   "execution_count": 13,
   "metadata": {},
   "outputs": [],
   "source": [
    "# compiling the model\n",
    "model.compile(optimizer='adam', \n",
    "              loss='binary_crossentropy', \n",
    "              metrics=['accuracy'])"
   ]
  },
  {
   "cell_type": "code",
   "execution_count": 14,
   "metadata": {},
   "outputs": [
    {
     "name": "stdout",
     "output_type": "stream",
     "text": [
      "Model: \"model\"\n",
      "_________________________________________________________________\n",
      "Layer (type)                 Output Shape              Param #   \n",
      "=================================================================\n",
      "input_1 (InputLayer)         [(None, 4388)]            0         \n",
      "_________________________________________________________________\n",
      "embedding_1 (Embedding)      (None, 4388, 15)          349920    \n",
      "_________________________________________________________________\n",
      "conv1d_1 (Conv1D)            (None, 4388, 10)          160       \n",
      "_________________________________________________________________\n",
      "global_max_pooling1d_1 (Glob (None, 10)                0         \n",
      "_________________________________________________________________\n",
      "dense_1 (Dense)              (None, 1)                 11        \n",
      "=================================================================\n",
      "Total params: 350,091\n",
      "Trainable params: 350,091\n",
      "Non-trainable params: 0\n",
      "_________________________________________________________________\n"
     ]
    }
   ],
   "source": [
    "model.summary()"
   ]
  },
  {
   "cell_type": "code",
   "execution_count": null,
   "metadata": {},
   "outputs": [],
   "source": []
  },
  {
   "cell_type": "code",
   "execution_count": 15,
   "metadata": {},
   "outputs": [
    {
     "name": "stdout",
     "output_type": "stream",
     "text": [
      "Epoch 1/5\n",
      "250/250 [==============================] - 17s 67ms/step - loss: 0.6658 - accuracy: 0.6212 - val_loss: 0.6260 - val_accuracy: 0.6650\n",
      "Epoch 2/5\n",
      "250/250 [==============================] - 20s 79ms/step - loss: 0.5715 - accuracy: 0.7109 - val_loss: 0.5507 - val_accuracy: 0.7230\n",
      "Epoch 3/5\n",
      "250/250 [==============================] - 17s 66ms/step - loss: 0.4915 - accuracy: 0.7655 - val_loss: 0.5181 - val_accuracy: 0.7335\n",
      "Epoch 4/5\n",
      "250/250 [==============================] - 20s 81ms/step - loss: 0.4315 - accuracy: 0.8036 - val_loss: 0.4985 - val_accuracy: 0.7470\n",
      "Epoch 5/5\n",
      "250/250 [==============================] - 18s 74ms/step - loss: 0.3779 - accuracy: 0.8378 - val_loss: 0.4948 - val_accuracy: 0.7530\n"
     ]
    }
   ],
   "source": [
    "#training the model\n",
    "r = model.fit(pad_train, y_train, validation_data=(pad_test, y_test), epochs=5)"
   ]
  },
  {
   "cell_type": "code",
   "execution_count": 16,
   "metadata": {},
   "outputs": [
    {
     "data": {
      "text/plain": [
       "<matplotlib.legend.Legend at 0x191b5bae3a0>"
      ]
     },
     "execution_count": 16,
     "metadata": {},
     "output_type": "execute_result"
    },
    {
     "data": {
      "image/png": "[encoded data removed]",
      "text/plain": [
       "<Figure size 432x288 with 1 Axes>"
      ]
     },
     "metadata": {
      "needs_background": "light"
     },
     "output_type": "display_data"
    }
   ],
   "source": [
    "# Evaluating the model\n",
    "# plotting the loss and validation loss of the model\n",
    "plt.plot(r.history['loss'], label='loss')\n",
    "plt.plot(r.history['val_loss'], label = 'val_loss')\n",
    "plt.legend()"
   ]
  },
  {
   "cell_type": "code",
   "execution_count": 17,
   "metadata": {},
   "outputs": [
    {
     "data": {
      "text/plain": [
       "<matplotlib.legend.Legend at 0x191b5c49cd0>"
      ]
     },
     "execution_count": 17,
     "metadata": {},
     "output_type": "execute_result"
    },
    {
     "data": {
      "image/png": "[encoded data removed]",
      "text/plain": [
       "<Figure size 432x288 with 1 Axes>"
      ]
     },
     "metadata": {
      "needs_background": "light"
     },
     "output_type": "display_data"
    }
   ],
   "source": [
    "# plotting the accuracy and validation accuracy of the model\n",
    "plt.plot(r.history['accuracy'], label= 'accuracy')\n",
    "plt.plot(r.history['val_accuracy'], label='val_accuracy')\n",
    "plt.legend()"
   ]
  },
  {
   "cell_type": "code",
   "execution_count": 25,
   "metadata": {},
   "outputs": [],
   "source": [
    "#model = keras.models.load_model('nice2')"
   ]
  },
  {
   "cell_type": "code",
   "execution_count": 18,
   "metadata": {},
   "outputs": [],
   "source": [
    "import pickle\n",
    "f = open('tokanx','wb')\n",
    "pickle.dump(tokenizer,f)\n",
    "f.close()"
   ]
  },
  {
   "cell_type": "markdown",
   "metadata": {},
   "source": []
  },
  {
   "cell_type": "code",
   "execution_count": 19,
   "metadata": {},
   "outputs": [
    {
     "name": "stdout",
     "output_type": "stream",
     "text": [
      "[[0.22711894]]\n",
      "[[1, 310]]\n",
      "[[  0   0   0 ...   0   1 310]]\n",
      "You probably do not have anxiety\n"
     ]
    }
   ],
   "source": [
    "#Prediction\n",
    "text=[\"I Happy\"]\n",
    "def predict_sentiment(text):\n",
    "  # preprocessing the given text \n",
    "  text_seq = tokenizer.texts_to_sequences(text)\n",
    "  text_pad = pad_sequences(text_seq, maxlen=T)\n",
    "\n",
    "  # predicting the class\n",
    "  predicted_sentiment = model.predict(text_pad)\n",
    "  print(predicted_sentiment)\n",
    "  predicted_sentiment = model.predict(text_pad).round()\n",
    "  print(text_seq)\n",
    "  print(text_pad)\n",
    "\n",
    "  if predicted_sentiment == 1.0:\n",
    "    return(print('You may have anxiety'))\n",
    "  else:\n",
    "    return(print('You probably do not have anxiety'))\n",
    "predict_sentiment(text)"
   ]
  },
  {
   "cell_type": "code",
   "execution_count": 20,
   "metadata": {},
   "outputs": [
    {
     "name": "stdout",
     "output_type": "stream",
     "text": [
      "WARNING:tensorflow:From c:\\users\\midhu\\appdata\\local\\programs\\python\\python38\\lib\\site-packages\\tensorflow\\python\\ops\\resource_variable_ops.py:1813: calling BaseResourceVariable.__init__ (from tensorflow.python.ops.resource_variable_ops) with constraint is deprecated and will be removed in a future version.\n",
      "Instructions for updating:\n",
      "If using Keras pass *_constraint arguments to layers.\n",
      "INFO:tensorflow:Assets written to: anxietymod\\assets\n"
     ]
    }
   ],
   "source": [
    "# saving the model for future purpose\n",
    "model.save('anxietymod')"
   ]
  },
  {
   "cell_type": "code",
   "execution_count": 21,
   "metadata": {},
   "outputs": [
    {
     "data": {
      "text/plain": [
       "4388"
      ]
     },
     "execution_count": 21,
     "metadata": {},
     "output_type": "execute_result"
    }
   ],
   "source": [
    "T"
   ]
  },
  {
   "cell_type": "code",
   "execution_count": null,
   "metadata": {},
   "outputs": [],
   "source": []
  }
 ],
 "metadata": {
  "kernelspec": {
   "display_name": "Python 3",
   "language": "python",
   "name": "python3"
  },
  "language_info": {
   "codemirror_mode": {
    "name": "ipython",
    "version": 3
   },
   "file_extension": ".py",
   "mimetype": "text/x-python",
   "name": "python",
   "nbconvert_exporter": "python",
   "pygments_lexer": "ipython3",
   "version": "3.8.5"
  }
 },
 "nbformat": 4,
 "nbformat_minor": 4
}
